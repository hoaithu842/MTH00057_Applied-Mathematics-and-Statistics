{
 "cells": [
  {
   "cell_type": "markdown",
   "metadata": {},
   "source": [
    "### Import thư viện"
   ]
  },
  {
   "cell_type": "code",
   "execution_count": 1,
   "metadata": {},
   "outputs": [],
   "source": [
    "import numpy as np                  #tính toán ma trận\n",
    "import matplotlib.pyplot as plt     #hiển thị ảnh\n",
    "from PIL import Image               #đọc, ghi ảnh"
   ]
  },
  {
   "cell_type": "markdown",
   "metadata": {},
   "source": [
    "### Nhóm hàm chức năng"
   ]
  },
  {
   "cell_type": "code",
   "execution_count": 2,
   "metadata": {},
   "outputs": [],
   "source": [
    "def change_brightness(img):\n",
    "    return [np.clip(img+50, 0, 255), np.clip(img-50, 0, 255)]\n",
    "\n",
    "\n",
    "def change_contrast(img):\n",
    "    return [np.clip(img*1.5, 0, 255), np.clip(img*0.5, 0, 255)]\n",
    "\n",
    "\n",
    "def flip_image(img, direction=''):\n",
    "    if direction=='horizontal':    #horizontal -   dọc  - left to right\n",
    "        return [img[:,::-1]]\n",
    "    elif direction=='vertical':  #vertical - ngang\n",
    "        return [img[::-1,:]]\n",
    "    return [img[:,::-1], img[::-1,:]]\n",
    "\n",
    "\n",
    "def convert_to_grayscale(img):\n",
    "    return np.clip(np.dot(img[...,:3], [0.2989, 0.5870, 0.1140]), 0, 255)\n",
    "\n",
    "\n",
    "def convert_to_sepia(img):\n",
    "    tr = np.dot(img[...,:3], [0.393, 0.769, 0.189]) \n",
    "    tg = np.dot(img[...,:3], [0.349, 0.686, 0.168]) \n",
    "    tb = np.dot(img[...,:3], [0.272, 0.534, 0.131])\n",
    "\n",
    "    new_img = np.zeros_like(img)\n",
    "    new_img[:,:,0] = tr\n",
    "    new_img[:,:,1] = tg\n",
    "    new_img[:,:,2] = tb\n",
    "\n",
    "    return np.clip(new_img, 0, 255) \n",
    "\n",
    "\n",
    "def grayscale_and_sepia(img):\n",
    "    return [convert_to_grayscale(img), convert_to_sepia(img)]\n",
    "\n",
    "\n",
    "def blur_and_sharpen(img):\n",
    "    kernel = np.array([[1.0, 2.0, 1.0],\n",
    "                       [2.0, 4.0, 2.0],\n",
    "                       [1.0, 2.0, 1.0]]\n",
    "                    )\n",
    "    kernel = kernel/np.sum(kernel)\n",
    "\n",
    "    arraylist = []\n",
    "    for y in range(3):\n",
    "        temparray = np.copy(img)\n",
    "        temparray = np.roll(temparray, y - 1, axis=0)\n",
    "        for x in range(3):\n",
    "            temparray_X = np.copy(temparray)\n",
    "            temparray_X = np.roll(temparray_X, x - 1, axis=1)*kernel[y,x]\n",
    "            arraylist.append(temparray_X)\n",
    "\n",
    "    arraylist = np.array(arraylist)\n",
    "    blur_img = np.sum(arraylist, axis=0)\n",
    "    return [blur_img, np.clip(2*img - blur_img, 0, 255)]\n",
    "\n",
    "def center_crop(img):\n",
    "    x,y,_ = img.shape\n",
    "    return [img[x//4 : x-x//4 , y//4 : y - y//4, :]]\n",
    "\n",
    "def circle_mask(img):\n",
    "    a, b, _ = img.shape\n",
    "    X, Y = np.ogrid[0:a, 0:b]\n",
    "\n",
    "    R = a/2\n",
    "    if a>b:\n",
    "        R = b/2\n",
    "\n",
    "    mask = (X - a/2) ** 2 + (Y - b/2)**2 > R**2\n",
    "\n",
    "    new_img = img.copy()\n",
    "    new_img[mask] = 0\n",
    "\n",
    "    return [new_img]\n",
    "\n",
    "def ellipse_mask(img):\n",
    "    # define ellipse parameters\n",
    "    distance = img.shape[1]/2\n",
    "    a = distance*(np.sqrt(2) - 0.2) # major axis\n",
    "    b = 3*a/5  # minor axis\n",
    "    theta = np.arctan(img.shape[1]/img.shape[0])  # angle of rotation in radians\n",
    "\n",
    "    # create meshgrid\n",
    "    x_c, y_c = img.shape[1] // 2, img.shape[0] // 2\n",
    "    h, w = img.shape[:2]\n",
    "    y, x = np.ogrid[-y_c:h-y_c, -x_c:w-x_c]\n",
    "\n",
    "    cos_theta, sin_theta = np.cos(theta), np.sin(theta)\n",
    "    ellipse_1 = (((x * cos_theta - y * sin_theta) ** 2) / (a ** 2)) + (((x * sin_theta + y * cos_theta) ** 2) / (b ** 2)) <= 1\n",
    "    ellipse_2 = (((x * np.cos(theta + np.pi / 2) + y * np.sin(theta + np.pi / 2)) ** 2) / (b ** 2)) + (((-x * np.sin(theta + np.pi / 2) + y * np.cos(theta + np.pi / 2)) ** 2) / (a ** 2)) <= 1\n",
    "\n",
    "    ellipse_mask = ellipse_1 + ellipse_2\n",
    "\n",
    "    cropped_ellipse_img = np.zeros_like(img)\n",
    "    for c in range(img.shape[-1]):\n",
    "        cropped_ellipse_img[:, :, c] = img[:, :, c] * ellipse_mask\n",
    "    \n",
    "    return [cropped_ellipse_img]"
   ]
  },
  {
   "cell_type": "markdown",
   "metadata": {},
   "source": [
    "### Khai báo danh sách lưu trữ các hàm chức năng & tên hàm chức năng"
   ]
  },
  {
   "cell_type": "code",
   "execution_count": 3,
   "metadata": {},
   "outputs": [],
   "source": [
    "func_name = [['brighter', 'darker'],\n",
    "             ['higher_contrast', 'lower_contrast'],\n",
    "             ['horizontal_flip', 'vertical_flip'],\n",
    "             ['grayscale', 'sepia'],\n",
    "             ['blur', 'sharpen'],\n",
    "             ['center_crop'],\n",
    "             ['circle_mask'],\n",
    "             ['ellipse_mask']\n",
    "            ]\n",
    "\n",
    "function = [change_brightness,\n",
    "            change_contrast,\n",
    "            flip_image,\n",
    "            grayscale_and_sepia,\n",
    "            blur_and_sharpen,\n",
    "            center_crop,\n",
    "            circle_mask,\n",
    "            ellipse_mask\n",
    "            ]\n",
    "\n",
    "direction = ['horizontal',\n",
    "             'vertical']"
   ]
  },
  {
   "cell_type": "markdown",
   "metadata": {},
   "source": [
    "### Nhóm hàm lấy dữ liệu (từ người dùng, từ ảnh, ...)"
   ]
  },
  {
   "cell_type": "code",
   "execution_count": 4,
   "metadata": {},
   "outputs": [],
   "source": [
    "def input_from_user():\n",
    "    filename = input('filename: ')\n",
    "\n",
    "    while True:\n",
    "        try:\n",
    "            func_id = int(input('function: '))\n",
    "            assert 0 <= func_id <= 8\n",
    "        except ValueError:\n",
    "            print('Not an integer! Please enter an integer.')\n",
    "        except AssertionError:\n",
    "            print('Value of input must be in range of [0,7].')\n",
    "        else:\n",
    "            break\n",
    "    \n",
    "    if func_id == 3:\n",
    "        while True:\n",
    "            try:\n",
    "                dir_id = int(input('type of flipping [0:horizontal/  1:vertical]')) #horizontal là vd của cô\n",
    "                assert 0 <= dir_id <= 1\n",
    "            except ValueError:\n",
    "                print('Not an integer! Please enter an integer.')\n",
    "            except AssertionError:\n",
    "                print('Value of input must be in range of [0,1].')\n",
    "            else:\n",
    "                return filename, func_id, direction[dir_id]\n",
    "    return filename, func_id, 'both'\n",
    "    \n",
    "def data_from_img(filename):\n",
    "    img = Image.open(filename)\n",
    "    return np.array(img, dtype=float)"
   ]
  },
  {
   "cell_type": "markdown",
   "metadata": {},
   "source": [
    "### Nhóm hàm xuất dữ liệu (ra console, ra ảnh, ...)"
   ]
  },
  {
   "cell_type": "code",
   "execution_count": 5,
   "metadata": {},
   "outputs": [],
   "source": [
    "def save_img(img_list, filein, func_id, direction='both'):\n",
    "    index = filein.rfind('.')\n",
    "    img_name = filein[ : index]\n",
    "    img_format = filein[index : ]\n",
    "    \n",
    "    for _ in range(len(img_list)):\n",
    "        if direction!='both':\n",
    "            fileout = img_name + '_' + func_name[func_id][direction] + img_format\n",
    "        else:\n",
    "            fileout = img_name + '_' + func_name[func_id][_] + img_format\n",
    "\n",
    "        if func_id==3 and _==0:\n",
    "            plt.imsave(f\"{fileout}\", img_list[_].astype(np.uint8), cmap='gray')\n",
    "        else:\n",
    "            plt.imsave(f\"{fileout}\", img_list[_].astype(np.uint8))"
   ]
  },
  {
   "cell_type": "markdown",
   "metadata": {},
   "source": [
    "### main"
   ]
  },
  {
   "cell_type": "code",
   "execution_count": 6,
   "metadata": {},
   "outputs": [],
   "source": [
    "from timeit import default_timer as timer\n",
    "\n",
    "def program(filename, func_id, direction):\n",
    "    img= data_from_img(filename)\n",
    "\n",
    "    if (func_id==0):\n",
    "        for _ in range(8):\n",
    "            func = function[_]\n",
    "\n",
    "            start = timer()\n",
    "            img_list = func(img)\n",
    "            end = timer()\n",
    "            print('runtime ', func_name[_], ': ', end-start)\n",
    "                \n",
    "            save_img(img_list, filename, _)\n",
    "        return\n",
    "\n",
    "    func_id-=1\n",
    "    func = function[func_id]\n",
    "\n",
    "    if func==flip_image:\n",
    "        img_list = func(img, direction)\n",
    "        save_img(img_list, filename, func_id, direction)\n",
    "    else:\n",
    "        img_list = func(img)\n",
    "        save_img(img_list, filename, func_id)"
   ]
  },
  {
   "cell_type": "code",
   "execution_count": 7,
   "metadata": {},
   "outputs": [
    {
     "name": "stdout",
     "output_type": "stream",
     "text": [
      "runtime  ['brighter', 'darker'] :  0.009773800004040822\n",
      "runtime  ['higher_contrast', 'lower_contrast'] :  0.013199699998949654\n",
      "runtime  ['horizontal_flip', 'vertical_flip'] :  0.0010291999933542684\n",
      "runtime  ['grayscale', 'sepia'] :  0.03407359999255277\n",
      "runtime  ['blur', 'sharpen'] :  0.16040399999474175\n",
      "runtime  ['center_crop'] :  0.0011823000095319003\n",
      "runtime  ['circle_mask'] :  0.004030900003272109\n",
      "runtime  ['eclipse_mask'] :  0.02055270000710152\n"
     ]
    }
   ],
   "source": [
    "def main():\n",
    "    filename, func_id, direction  = input_from_user()\n",
    "    program(filename, func_id, direction)        \n",
    "\n",
    "if __name__ == \"__main__\":\n",
    "    main()"
   ]
  }
 ],
 "metadata": {
  "kernelspec": {
   "display_name": "Python 3",
   "language": "python",
   "name": "python3"
  },
  "language_info": {
   "codemirror_mode": {
    "name": "ipython",
    "version": 3
   },
   "file_extension": ".py",
   "mimetype": "text/x-python",
   "name": "python",
   "nbconvert_exporter": "python",
   "pygments_lexer": "ipython3",
   "version": "3.10.1"
  },
  "orig_nbformat": 4
 },
 "nbformat": 4,
 "nbformat_minor": 2
}
